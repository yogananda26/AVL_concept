{
  "nbformat": 4,
  "nbformat_minor": 0,
  "metadata": {
    "colab": {
      "provenance": [],
      "authorship_tag": "ABX9TyOavJ0SGetiMUD30rXzriDG",
      "include_colab_link": true
    },
    "kernelspec": {
      "name": "python3",
      "display_name": "Python 3"
    },
    "language_info": {
      "name": "python"
    }
  },
  "cells": [
    {
      "cell_type": "markdown",
      "metadata": {
        "id": "view-in-github",
        "colab_type": "text"
      },
      "source": [
        "<a href=\"https://colab.research.google.com/github/yogananda26/AVL_concept/blob/main/Learning_MechineLearning.ipynb\" target=\"_parent\"><img src=\"https://colab.research.google.com/assets/colab-badge.svg\" alt=\"Open In Colab\"/></a>"
      ]
    },
    {
      "cell_type": "code",
      "execution_count": 4,
      "metadata": {
        "colab": {
          "base_uri": "https://localhost:8080/"
        },
        "id": "R2jVYW0H5MjD",
        "outputId": "2870dde9-9a00-43c5-d93d-d925edc47248"
      },
      "outputs": [
        {
          "output_type": "stream",
          "name": "stdout",
          "text": [
            "success\n"
          ]
        }
      ],
      "source": [
        "# this is for importing the thing\n",
        "import pandas as pd\n",
        "import numpy as np\n",
        "from sklearn.impute import SimpleImputer\n",
        "from sklearn.preprocessing import LabelEncoder\n",
        "print(\"success\")"
      ]
    },
    {
      "cell_type": "markdown",
      "source": [
        "1. Learing thing"
      ],
      "metadata": {
        "id": "uWMXlHMA7LHh"
      }
    },
    {
      "cell_type": "code",
      "source": [
        "#this is for inserting the csv file from web\n",
        "!wget \"https://raw.githubusercontent.com/yogananda26/Mechine_Learning/master/weatherAUS.csv/weatherAUS.csv\"\n",
        "df = pd.read_csv(\"weatherAUS.csv\")\n",
        "# this is for printing the data\n",
        "df.describe"
      ],
      "metadata": {
        "colab": {
          "base_uri": "https://localhost:8080/"
        },
        "id": "8c4wrF0I7Klj",
        "outputId": "61d1b609-17fa-4ec7-baae-70dc92053171"
      },
      "execution_count": 5,
      "outputs": [
        {
          "output_type": "stream",
          "name": "stdout",
          "text": [
            "--2024-02-01 02:57:38--  https://raw.githubusercontent.com/yogananda26/Mechine_Learning/master/weatherAUS.csv/weatherAUS.csv\n",
            "Resolving raw.githubusercontent.com (raw.githubusercontent.com)... 185.199.108.133, 185.199.109.133, 185.199.110.133, ...\n",
            "Connecting to raw.githubusercontent.com (raw.githubusercontent.com)|185.199.108.133|:443... connected.\n",
            "HTTP request sent, awaiting response... 200 OK\n",
            "Length: 14094055 (13M) [text/plain]\n",
            "Saving to: ‘weatherAUS.csv’\n",
            "\n",
            "weatherAUS.csv      100%[===================>]  13.44M  --.-KB/s    in 0.07s   \n",
            "\n",
            "2024-02-01 02:57:38 (191 MB/s) - ‘weatherAUS.csv’ saved [14094055/14094055]\n",
            "\n"
          ]
        },
        {
          "output_type": "execute_result",
          "data": {
            "text/plain": [
              "<bound method NDFrame.describe of               Date Location  MinTemp  MaxTemp  Rainfall  Evaporation  \\\n",
              "0       2008-12-01   Albury     13.4     22.9       0.6          NaN   \n",
              "1       2008-12-02   Albury      7.4     25.1       0.0          NaN   \n",
              "2       2008-12-03   Albury     12.9     25.7       0.0          NaN   \n",
              "3       2008-12-04   Albury      9.2     28.0       0.0          NaN   \n",
              "4       2008-12-05   Albury     17.5     32.3       1.0          NaN   \n",
              "...            ...      ...      ...      ...       ...          ...   \n",
              "145455  2017-06-21    Uluru      2.8     23.4       0.0          NaN   \n",
              "145456  2017-06-22    Uluru      3.6     25.3       0.0          NaN   \n",
              "145457  2017-06-23    Uluru      5.4     26.9       0.0          NaN   \n",
              "145458  2017-06-24    Uluru      7.8     27.0       0.0          NaN   \n",
              "145459  2017-06-25    Uluru     14.9      NaN       0.0          NaN   \n",
              "\n",
              "        Sunshine WindGustDir  WindGustSpeed WindDir9am  ... Humidity9am  \\\n",
              "0            NaN           W           44.0          W  ...        71.0   \n",
              "1            NaN         WNW           44.0        NNW  ...        44.0   \n",
              "2            NaN         WSW           46.0          W  ...        38.0   \n",
              "3            NaN          NE           24.0         SE  ...        45.0   \n",
              "4            NaN           W           41.0        ENE  ...        82.0   \n",
              "...          ...         ...            ...        ...  ...         ...   \n",
              "145455       NaN           E           31.0         SE  ...        51.0   \n",
              "145456       NaN         NNW           22.0         SE  ...        56.0   \n",
              "145457       NaN           N           37.0         SE  ...        53.0   \n",
              "145458       NaN          SE           28.0        SSE  ...        51.0   \n",
              "145459       NaN         NaN            NaN        ESE  ...        62.0   \n",
              "\n",
              "        Humidity3pm  Pressure9am  Pressure3pm  Cloud9am  Cloud3pm  Temp9am  \\\n",
              "0              22.0       1007.7       1007.1       8.0       NaN     16.9   \n",
              "1              25.0       1010.6       1007.8       NaN       NaN     17.2   \n",
              "2              30.0       1007.6       1008.7       NaN       2.0     21.0   \n",
              "3              16.0       1017.6       1012.8       NaN       NaN     18.1   \n",
              "4              33.0       1010.8       1006.0       7.0       8.0     17.8   \n",
              "...             ...          ...          ...       ...       ...      ...   \n",
              "145455         24.0       1024.6       1020.3       NaN       NaN     10.1   \n",
              "145456         21.0       1023.5       1019.1       NaN       NaN     10.9   \n",
              "145457         24.0       1021.0       1016.8       NaN       NaN     12.5   \n",
              "145458         24.0       1019.4       1016.5       3.0       2.0     15.1   \n",
              "145459         36.0       1020.2       1017.9       8.0       8.0     15.0   \n",
              "\n",
              "        Temp3pm  RainToday  RainTomorrow  \n",
              "0          21.8         No            No  \n",
              "1          24.3         No            No  \n",
              "2          23.2         No            No  \n",
              "3          26.5         No            No  \n",
              "4          29.7         No            No  \n",
              "...         ...        ...           ...  \n",
              "145455     22.4         No            No  \n",
              "145456     24.5         No            No  \n",
              "145457     26.1         No            No  \n",
              "145458     26.0         No            No  \n",
              "145459     20.9         No           NaN  \n",
              "\n",
              "[145460 rows x 23 columns]>"
            ]
          },
          "metadata": {},
          "execution_count": 5
        }
      ]
    },
    {
      "cell_type": "code",
      "source": [
        "# this is for starting the mechine learning\n",
        "X = df.iloc[: , [1,2,3,4,7,8,9,10,11,12,13,15,16,17,18,19,20,21]].values\n",
        "Y = df.iloc[: , -1].values\n",
        "Y = Y.reshape(-1, 1)\n",
        "\n",
        "print(X)\n",
        "# this is for output\n",
        "print(\"this is for output\")\n",
        "print(Y)"
      ],
      "metadata": {
        "colab": {
          "base_uri": "https://localhost:8080/"
        },
        "id": "YFASo_xzVTnp",
        "outputId": "7ced9c81-4688-4580-a5e5-e5ebf8e88f5a"
      },
      "execution_count": 6,
      "outputs": [
        {
          "output_type": "stream",
          "name": "stdout",
          "text": [
            "[['Albury' 13.4 22.9 ... 16.9 21.8 'No']\n",
            " ['Albury' 7.4 25.1 ... 17.2 24.3 'No']\n",
            " ['Albury' 12.9 25.7 ... 21.0 23.2 'No']\n",
            " ...\n",
            " ['Uluru' 5.4 26.9 ... 12.5 26.1 'No']\n",
            " ['Uluru' 7.8 27.0 ... 15.1 26.0 'No']\n",
            " ['Uluru' 14.9 nan ... 15.0 20.9 'No']]\n",
            "this is for output\n",
            "[['No']\n",
            " ['No']\n",
            " ['No']\n",
            " ...\n",
            " ['No']\n",
            " ['No']\n",
            " [nan]]\n"
          ]
        }
      ]
    },
    {
      "cell_type": "markdown",
      "source": [
        "This is for dealing with invalid data set"
      ],
      "metadata": {
        "id": "zD2BwWbwQSzq"
      }
    },
    {
      "cell_type": "code",
      "source": [
        "\n",
        "# this is for filling the dataset wether the dataset had nan value\n",
        "imp_most_frequent = SimpleImputer(missing_values=np.nan, strategy=\"most_frequent\")\n",
        "X = imp_most_frequent.fit_transform(X)\n",
        "Y = imp_most_frequent.fit_transform(Y)\n",
        "print(Y)"
      ],
      "metadata": {
        "colab": {
          "base_uri": "https://localhost:8080/"
        },
        "id": "zIKwZXv3QOho",
        "outputId": "1fb54455-c12a-4acc-9da7-6b12fb097503"
      },
      "execution_count": 7,
      "outputs": [
        {
          "output_type": "stream",
          "name": "stdout",
          "text": [
            "[['No']\n",
            " ['No']\n",
            " ['No']\n",
            " ...\n",
            " ['No']\n",
            " ['No']\n",
            " ['No']]\n"
          ]
        }
      ]
    },
    {
      "cell_type": "markdown",
      "source": [
        "this is for translate the text into number for simple processing\n"
      ],
      "metadata": {
        "id": "tovt62bQ6btr"
      }
    },
    {
      "cell_type": "code",
      "source": [
        "# this is for changing the coloumn\n",
        "fit0 = LabelEncoder()\n",
        "X[: , 0] = fit0.fit_transform(X[:,0])\n",
        "fit = LabelEncoder()\n",
        "X[: , 4] = fit.fit_transform(X[:,4])\n",
        "fit1 = LabelEncoder()\n",
        "X[: ,6] = fit.fit_transform(X[: , 6])\n",
        "fit2 = LabelEncoder()\n",
        "X[: , 7] = fit2.fit_transform(X[:,7])\n",
        "fit3 = LabelEncoder()\n",
        "X[: , -1] = fit3.fit_transform(X[:,-1])\n",
        "\n",
        "# this is for changing the graph Y\n",
        "fit_y = LabelEncoder()\n",
        "Y = fit_y.fit_transform(Y)"
      ],
      "metadata": {
        "colab": {
          "base_uri": "https://localhost:8080/"
        },
        "id": "Eq_SDaDvV9fP",
        "outputId": "566285bc-aa3e-4461-a537-916a12de5081"
      },
      "execution_count": 8,
      "outputs": [
        {
          "output_type": "stream",
          "name": "stderr",
          "text": [
            "/usr/local/lib/python3.10/dist-packages/sklearn/preprocessing/_label.py:116: DataConversionWarning: A column-vector y was passed when a 1d array was expected. Please change the shape of y to (n_samples, ), for example using ravel().\n",
            "  y = column_or_1d(y, warn=True)\n"
          ]
        }
      ]
    },
    {
      "cell_type": "markdown",
      "source": [
        "Featuring Scalling"
      ],
      "metadata": {
        "id": "tgIiliOH_ncz"
      }
    },
    {
      "cell_type": "code",
      "source": [
        "from sklearn.preprocessing import StandardScaler\n",
        "sc = StandardScaler()\n",
        "X = sc.fit_transform(X)\n",
        "print(X)"
      ],
      "metadata": {
        "colab": {
          "base_uri": "https://localhost:8080/"
        },
        "id": "DTlmlymPenYf",
        "outputId": "789849d2-ef02-440a-f646-178df8300a10"
      },
      "execution_count": 9,
      "outputs": [
        {
          "output_type": "stream",
          "name": "stdout",
          "text": [
            "[[-1.53166617  0.19132753 -0.04135977 ... -0.01407077  0.02310362\n",
            "  -0.52979545]\n",
            " [-1.53166617 -0.75105231  0.26874452 ...  0.03244663  0.387799\n",
            "  -0.52979545]\n",
            " [-1.53166617  0.11279588  0.35331842 ...  0.62166712  0.22733303\n",
            "  -0.52979545]\n",
            " ...\n",
            " [ 1.20928479 -1.06517892  0.52246622 ... -0.69632607  0.65037966\n",
            "  -0.52979545]\n",
            " [ 1.20928479 -0.68822699  0.53656187 ... -0.29317521  0.63579185\n",
            "  -0.52979545]\n",
            " [ 1.20928479  0.42692249 -0.45013361 ... -0.30868102 -0.10818671\n",
            "  -0.52979545]]\n"
          ]
        }
      ]
    },
    {
      "cell_type": "markdown",
      "source": [
        "Splitting Training And Testing Model (more training you have better result youll get)"
      ],
      "metadata": {
        "id": "1m2QQLeeADb3"
      }
    },
    {
      "cell_type": "code",
      "source": [
        "# this is for spliting the data into testing and training test\n",
        "from sklearn.model_selection import train_test_split, GridSearchCV\n",
        "X_train, X_test, Y_train, Y_test = train_test_split(X, Y, test_size=0.9, random_state=0)\n",
        "\n",
        "print(X_train)\n",
        "print(\"=====================\")\n",
        "print(X_test)\n",
        "print(\"=====================\")\n",
        "print(Y_train)\n",
        "print(\"=====================\")\n",
        "print(Y_test)\n"
      ],
      "metadata": {
        "colab": {
          "base_uri": "https://localhost:8080/"
        },
        "id": "oOHm7YAe_-6O",
        "outputId": "d78aeb1f-150c-408b-990e-7bfac5f8c654"
      },
      "execution_count": 10,
      "outputs": [
        {
          "output_type": "stream",
          "name": "stdout",
          "text": [
            "[[-0.40717346 -0.49975102 -0.90119441 ... -0.69632607 -0.85216526\n",
            "  -0.52979545]\n",
            " [-1.32082378  0.81958076 -0.37965537 ...  0.31155107 -0.56040897\n",
            "  -0.52979545]\n",
            " [-1.53166617 -0.12279908 -0.14002932 ... -0.32418682 -0.06442326\n",
            "  -0.52979545]\n",
            " ...\n",
            " [ 1.0687232   0.75675544  0.93124006 ...  1.10234698  1.07342629\n",
            "  -0.52979545]\n",
            " [ 0.57675765 -0.04426743 -0.16822062 ...  0.01694083 -0.28324049\n",
            "   1.88752093]\n",
            " [ 1.63096955 -0.0285611  -0.91529006 ... -0.35519842 -0.76463838\n",
            "  -0.52979545]]\n",
            "=====================\n",
            "[[-1.46138537  1.52636564  2.28442243 ...  1.98617771  2.00704644\n",
            "   1.88752093]\n",
            " [ 1.27956559  1.30647701  2.01660509 ...  1.59853265  2.05080989\n",
            "  -0.52979545]\n",
            " [ 0.85788082 -1.11229791 -0.84481181 ... -1.06846532 -0.80840182\n",
            "  -0.52979545]\n",
            " ...\n",
            " [-1.67222775 -0.13850541 -0.49242056 ... -0.30868102 -0.41453082\n",
            "  -0.52979545]\n",
            " [-0.47745426 -1.28506755 -0.30917712 ... -1.50262778 -0.18112578\n",
            "  -0.52979545]\n",
            " [ 1.27956559  1.07088205  1.41049215 ...  0.80773674  1.35059477\n",
            "  -0.52979545]]\n",
            "=====================\n",
            "[0 0 0 ... 0 0 0]\n",
            "=====================\n",
            "[1 1 0 ... 1 0 0]\n"
          ]
        }
      ]
    },
    {
      "cell_type": "markdown",
      "source": [
        "This for MECHINE LEARNING KICK IN"
      ],
      "metadata": {
        "id": "h8QNpKn2GTdk"
      }
    },
    {
      "cell_type": "code",
      "source": [
        "# this is for mechine learning\n",
        "# we use randomforest classfier for predicting thing on discrete way\n",
        "from sklearn.ensemble import RandomForestClassifier\n",
        "# we can changging the parameter for better result\n",
        "classifier = RandomForestClassifier(n_estimators=150, random_state=0)\n",
        "classifier.fit(X_train, Y_train)\n"
      ],
      "metadata": {
        "colab": {
          "base_uri": "https://localhost:8080/",
          "height": 74
        },
        "id": "Ta43HYB3GS37",
        "outputId": "cd793e82-de95-4b0c-eb06-8d5061d76fc1"
      },
      "execution_count": 11,
      "outputs": [
        {
          "output_type": "execute_result",
          "data": {
            "text/plain": [
              "RandomForestClassifier(n_estimators=150, random_state=0)"
            ],
            "text/html": [
              "<style>#sk-container-id-1 {color: black;background-color: white;}#sk-container-id-1 pre{padding: 0;}#sk-container-id-1 div.sk-toggleable {background-color: white;}#sk-container-id-1 label.sk-toggleable__label {cursor: pointer;display: block;width: 100%;margin-bottom: 0;padding: 0.3em;box-sizing: border-box;text-align: center;}#sk-container-id-1 label.sk-toggleable__label-arrow:before {content: \"▸\";float: left;margin-right: 0.25em;color: #696969;}#sk-container-id-1 label.sk-toggleable__label-arrow:hover:before {color: black;}#sk-container-id-1 div.sk-estimator:hover label.sk-toggleable__label-arrow:before {color: black;}#sk-container-id-1 div.sk-toggleable__content {max-height: 0;max-width: 0;overflow: hidden;text-align: left;background-color: #f0f8ff;}#sk-container-id-1 div.sk-toggleable__content pre {margin: 0.2em;color: black;border-radius: 0.25em;background-color: #f0f8ff;}#sk-container-id-1 input.sk-toggleable__control:checked~div.sk-toggleable__content {max-height: 200px;max-width: 100%;overflow: auto;}#sk-container-id-1 input.sk-toggleable__control:checked~label.sk-toggleable__label-arrow:before {content: \"▾\";}#sk-container-id-1 div.sk-estimator input.sk-toggleable__control:checked~label.sk-toggleable__label {background-color: #d4ebff;}#sk-container-id-1 div.sk-label input.sk-toggleable__control:checked~label.sk-toggleable__label {background-color: #d4ebff;}#sk-container-id-1 input.sk-hidden--visually {border: 0;clip: rect(1px 1px 1px 1px);clip: rect(1px, 1px, 1px, 1px);height: 1px;margin: -1px;overflow: hidden;padding: 0;position: absolute;width: 1px;}#sk-container-id-1 div.sk-estimator {font-family: monospace;background-color: #f0f8ff;border: 1px dotted black;border-radius: 0.25em;box-sizing: border-box;margin-bottom: 0.5em;}#sk-container-id-1 div.sk-estimator:hover {background-color: #d4ebff;}#sk-container-id-1 div.sk-parallel-item::after {content: \"\";width: 100%;border-bottom: 1px solid gray;flex-grow: 1;}#sk-container-id-1 div.sk-label:hover label.sk-toggleable__label {background-color: #d4ebff;}#sk-container-id-1 div.sk-serial::before {content: \"\";position: absolute;border-left: 1px solid gray;box-sizing: border-box;top: 0;bottom: 0;left: 50%;z-index: 0;}#sk-container-id-1 div.sk-serial {display: flex;flex-direction: column;align-items: center;background-color: white;padding-right: 0.2em;padding-left: 0.2em;position: relative;}#sk-container-id-1 div.sk-item {position: relative;z-index: 1;}#sk-container-id-1 div.sk-parallel {display: flex;align-items: stretch;justify-content: center;background-color: white;position: relative;}#sk-container-id-1 div.sk-item::before, #sk-container-id-1 div.sk-parallel-item::before {content: \"\";position: absolute;border-left: 1px solid gray;box-sizing: border-box;top: 0;bottom: 0;left: 50%;z-index: -1;}#sk-container-id-1 div.sk-parallel-item {display: flex;flex-direction: column;z-index: 1;position: relative;background-color: white;}#sk-container-id-1 div.sk-parallel-item:first-child::after {align-self: flex-end;width: 50%;}#sk-container-id-1 div.sk-parallel-item:last-child::after {align-self: flex-start;width: 50%;}#sk-container-id-1 div.sk-parallel-item:only-child::after {width: 0;}#sk-container-id-1 div.sk-dashed-wrapped {border: 1px dashed gray;margin: 0 0.4em 0.5em 0.4em;box-sizing: border-box;padding-bottom: 0.4em;background-color: white;}#sk-container-id-1 div.sk-label label {font-family: monospace;font-weight: bold;display: inline-block;line-height: 1.2em;}#sk-container-id-1 div.sk-label-container {text-align: center;}#sk-container-id-1 div.sk-container {/* jupyter's `normalize.less` sets `[hidden] { display: none; }` but bootstrap.min.css set `[hidden] { display: none !important; }` so we also need the `!important` here to be able to override the default hidden behavior on the sphinx rendered scikit-learn.org. See: https://github.com/scikit-learn/scikit-learn/issues/21755 */display: inline-block !important;position: relative;}#sk-container-id-1 div.sk-text-repr-fallback {display: none;}</style><div id=\"sk-container-id-1\" class=\"sk-top-container\"><div class=\"sk-text-repr-fallback\"><pre>RandomForestClassifier(n_estimators=150, random_state=0)</pre><b>In a Jupyter environment, please rerun this cell to show the HTML representation or trust the notebook. <br />On GitHub, the HTML representation is unable to render, please try loading this page with nbviewer.org.</b></div><div class=\"sk-container\" hidden><div class=\"sk-item\"><div class=\"sk-estimator sk-toggleable\"><input class=\"sk-toggleable__control sk-hidden--visually\" id=\"sk-estimator-id-1\" type=\"checkbox\" checked><label for=\"sk-estimator-id-1\" class=\"sk-toggleable__label sk-toggleable__label-arrow\">RandomForestClassifier</label><div class=\"sk-toggleable__content\"><pre>RandomForestClassifier(n_estimators=150, random_state=0)</pre></div></div></div></div></div>"
            ]
          },
          "metadata": {},
          "execution_count": 11
        }
      ]
    },
    {
      "cell_type": "markdown",
      "source": [
        "# Searching For Multiple Model"
      ],
      "metadata": {
        "id": "I97CXxUjXstf"
      }
    },
    {
      "cell_type": "code",
      "source": [
        "from sklearn.ensemble import RandomForestClassifier\n",
        "from sklearn.linear_model import LogisticRegression, LinearRegression\n",
        "from sklearn.ensemble import GradientBoostingRegressor\n",
        "from sklearn import svm\n",
        "\n",
        "\n",
        "model_params = {\n",
        "    'random_forest' : {\n",
        "        'model' : RandomForestClassifier(),\n",
        "        'params' : {\n",
        "            'n_estimators' : [50,100,150],\n",
        "            'random_state' : [0]\n",
        "        }\n",
        "    },\n",
        "    'svm': {\n",
        "        'model': svm.SVR(gamma='auto'),\n",
        "        'params' : {\n",
        "            'C': [1, 10, 30],\n",
        "            'kernel': ['rbf','linear', 'poly']\n",
        "        }\n",
        "    },\n",
        "    'gradient_boosting' : {\n",
        "        'model' : GradientBoostingRegressor() ,\n",
        "        'params' : {\n",
        "             'learning_rate': [0.01, 0.1, 1],\n",
        "             'n_estimators': [50, 100, 150]\n",
        "\n",
        "        }\n",
        "    },\n",
        "    'linear_regression' :{\n",
        "        'model' : LinearRegression(),\n",
        "        'params' : {\n",
        "            'fit_intercept' : [True, False],\n",
        "            'copy_X' : [True, False],\n",
        "            'positive' : [True, False]\n",
        "        }\n",
        "    }\n",
        "\n",
        "}"
      ],
      "metadata": {
        "id": "FBQDm-5JW78j"
      },
      "execution_count": 14,
      "outputs": []
    },
    {
      "cell_type": "markdown",
      "source": [],
      "metadata": {
        "id": "DbJJIxu_XzJM"
      }
    },
    {
      "cell_type": "code",
      "source": [
        "scores = []\n",
        "\n",
        "for model_name, mp in model_params.items():\n",
        "    clf =  GridSearchCV(mp['model'], mp['params'],return_train_score=False)\n",
        "    clf.fit(X_train, Y_train.reshape(-1,))\n",
        "    scores.append({\n",
        "        'model': model_name,\n",
        "        'best_score': clf.best_score_,\n",
        "        'best_params': clf.best_params_\n",
        "    })\n",
        "\n",
        "df = pd.DataFrame(scores,columns=['model','best_score','best_params'])\n",
        "df"
      ],
      "metadata": {
        "colab": {
          "base_uri": "https://localhost:8080/",
          "height": 175
        },
        "id": "e1RiYiSuXd14",
        "outputId": "0745c135-5b98-40c0-fc97-8859de235bac"
      },
      "execution_count": 15,
      "outputs": [
        {
          "data": {
            "text/html": [
              "\n",
              "  <div id=\"df-12941ca8-37d9-454d-8986-dbb72bc01aa1\" class=\"colab-df-container\">\n",
              "    <div>\n",
              "<style scoped>\n",
              "    .dataframe tbody tr th:only-of-type {\n",
              "        vertical-align: middle;\n",
              "    }\n",
              "\n",
              "    .dataframe tbody tr th {\n",
              "        vertical-align: top;\n",
              "    }\n",
              "\n",
              "    .dataframe thead th {\n",
              "        text-align: right;\n",
              "    }\n",
              "</style>\n",
              "<table border=\"1\" class=\"dataframe\">\n",
              "  <thead>\n",
              "    <tr style=\"text-align: right;\">\n",
              "      <th></th>\n",
              "      <th>model</th>\n",
              "      <th>best_score</th>\n",
              "      <th>best_params</th>\n",
              "    </tr>\n",
              "  </thead>\n",
              "  <tbody>\n",
              "    <tr>\n",
              "      <th>0</th>\n",
              "      <td>random_forest</td>\n",
              "      <td>0.833150</td>\n",
              "      <td>{'n_estimators': 100, 'random_state': 0}</td>\n",
              "    </tr>\n",
              "    <tr>\n",
              "      <th>1</th>\n",
              "      <td>svm</td>\n",
              "      <td>0.252870</td>\n",
              "      <td>{'C': 1, 'kernel': 'rbf'}</td>\n",
              "    </tr>\n",
              "    <tr>\n",
              "      <th>2</th>\n",
              "      <td>gradient_boosting</td>\n",
              "      <td>0.296560</td>\n",
              "      <td>{'learning_rate': 0.1, 'n_estimators': 150}</td>\n",
              "    </tr>\n",
              "    <tr>\n",
              "      <th>3</th>\n",
              "      <td>linear_regression</td>\n",
              "      <td>0.254201</td>\n",
              "      <td>{'copy_X': True, 'fit_intercept': True, 'posit...</td>\n",
              "    </tr>\n",
              "  </tbody>\n",
              "</table>\n",
              "</div>\n",
              "    <div class=\"colab-df-buttons\">\n",
              "\n",
              "  <div class=\"colab-df-container\">\n",
              "    <button class=\"colab-df-convert\" onclick=\"convertToInteractive('df-12941ca8-37d9-454d-8986-dbb72bc01aa1')\"\n",
              "            title=\"Convert this dataframe to an interactive table.\"\n",
              "            style=\"display:none;\">\n",
              "\n",
              "  <svg xmlns=\"http://www.w3.org/2000/svg\" height=\"24px\" viewBox=\"0 -960 960 960\">\n",
              "    <path d=\"M120-120v-720h720v720H120Zm60-500h600v-160H180v160Zm220 220h160v-160H400v160Zm0 220h160v-160H400v160ZM180-400h160v-160H180v160Zm440 0h160v-160H620v160ZM180-180h160v-160H180v160Zm440 0h160v-160H620v160Z\"/>\n",
              "  </svg>\n",
              "    </button>\n",
              "\n",
              "  <style>\n",
              "    .colab-df-container {\n",
              "      display:flex;\n",
              "      gap: 12px;\n",
              "    }\n",
              "\n",
              "    .colab-df-convert {\n",
              "      background-color: #E8F0FE;\n",
              "      border: none;\n",
              "      border-radius: 50%;\n",
              "      cursor: pointer;\n",
              "      display: none;\n",
              "      fill: #1967D2;\n",
              "      height: 32px;\n",
              "      padding: 0 0 0 0;\n",
              "      width: 32px;\n",
              "    }\n",
              "\n",
              "    .colab-df-convert:hover {\n",
              "      background-color: #E2EBFA;\n",
              "      box-shadow: 0px 1px 2px rgba(60, 64, 67, 0.3), 0px 1px 3px 1px rgba(60, 64, 67, 0.15);\n",
              "      fill: #174EA6;\n",
              "    }\n",
              "\n",
              "    .colab-df-buttons div {\n",
              "      margin-bottom: 4px;\n",
              "    }\n",
              "\n",
              "    [theme=dark] .colab-df-convert {\n",
              "      background-color: #3B4455;\n",
              "      fill: #D2E3FC;\n",
              "    }\n",
              "\n",
              "    [theme=dark] .colab-df-convert:hover {\n",
              "      background-color: #434B5C;\n",
              "      box-shadow: 0px 1px 3px 1px rgba(0, 0, 0, 0.15);\n",
              "      filter: drop-shadow(0px 1px 2px rgba(0, 0, 0, 0.3));\n",
              "      fill: #FFFFFF;\n",
              "    }\n",
              "  </style>\n",
              "\n",
              "    <script>\n",
              "      const buttonEl =\n",
              "        document.querySelector('#df-12941ca8-37d9-454d-8986-dbb72bc01aa1 button.colab-df-convert');\n",
              "      buttonEl.style.display =\n",
              "        google.colab.kernel.accessAllowed ? 'block' : 'none';\n",
              "\n",
              "      async function convertToInteractive(key) {\n",
              "        const element = document.querySelector('#df-12941ca8-37d9-454d-8986-dbb72bc01aa1');\n",
              "        const dataTable =\n",
              "          await google.colab.kernel.invokeFunction('convertToInteractive',\n",
              "                                                    [key], {});\n",
              "        if (!dataTable) return;\n",
              "\n",
              "        const docLinkHtml = 'Like what you see? Visit the ' +\n",
              "          '<a target=\"_blank\" href=https://colab.research.google.com/notebooks/data_table.ipynb>data table notebook</a>'\n",
              "          + ' to learn more about interactive tables.';\n",
              "        element.innerHTML = '';\n",
              "        dataTable['output_type'] = 'display_data';\n",
              "        await google.colab.output.renderOutput(dataTable, element);\n",
              "        const docLink = document.createElement('div');\n",
              "        docLink.innerHTML = docLinkHtml;\n",
              "        element.appendChild(docLink);\n",
              "      }\n",
              "    </script>\n",
              "  </div>\n",
              "\n",
              "\n",
              "<div id=\"df-046e1c61-c4fe-4b94-9c6e-08818ea1b095\">\n",
              "  <button class=\"colab-df-quickchart\" onclick=\"quickchart('df-046e1c61-c4fe-4b94-9c6e-08818ea1b095')\"\n",
              "            title=\"Suggest charts\"\n",
              "            style=\"display:none;\">\n",
              "\n",
              "<svg xmlns=\"http://www.w3.org/2000/svg\" height=\"24px\"viewBox=\"0 0 24 24\"\n",
              "     width=\"24px\">\n",
              "    <g>\n",
              "        <path d=\"M19 3H5c-1.1 0-2 .9-2 2v14c0 1.1.9 2 2 2h14c1.1 0 2-.9 2-2V5c0-1.1-.9-2-2-2zM9 17H7v-7h2v7zm4 0h-2V7h2v10zm4 0h-2v-4h2v4z\"/>\n",
              "    </g>\n",
              "</svg>\n",
              "  </button>\n",
              "\n",
              "<style>\n",
              "  .colab-df-quickchart {\n",
              "      --bg-color: #E8F0FE;\n",
              "      --fill-color: #1967D2;\n",
              "      --hover-bg-color: #E2EBFA;\n",
              "      --hover-fill-color: #174EA6;\n",
              "      --disabled-fill-color: #AAA;\n",
              "      --disabled-bg-color: #DDD;\n",
              "  }\n",
              "\n",
              "  [theme=dark] .colab-df-quickchart {\n",
              "      --bg-color: #3B4455;\n",
              "      --fill-color: #D2E3FC;\n",
              "      --hover-bg-color: #434B5C;\n",
              "      --hover-fill-color: #FFFFFF;\n",
              "      --disabled-bg-color: #3B4455;\n",
              "      --disabled-fill-color: #666;\n",
              "  }\n",
              "\n",
              "  .colab-df-quickchart {\n",
              "    background-color: var(--bg-color);\n",
              "    border: none;\n",
              "    border-radius: 50%;\n",
              "    cursor: pointer;\n",
              "    display: none;\n",
              "    fill: var(--fill-color);\n",
              "    height: 32px;\n",
              "    padding: 0;\n",
              "    width: 32px;\n",
              "  }\n",
              "\n",
              "  .colab-df-quickchart:hover {\n",
              "    background-color: var(--hover-bg-color);\n",
              "    box-shadow: 0 1px 2px rgba(60, 64, 67, 0.3), 0 1px 3px 1px rgba(60, 64, 67, 0.15);\n",
              "    fill: var(--button-hover-fill-color);\n",
              "  }\n",
              "\n",
              "  .colab-df-quickchart-complete:disabled,\n",
              "  .colab-df-quickchart-complete:disabled:hover {\n",
              "    background-color: var(--disabled-bg-color);\n",
              "    fill: var(--disabled-fill-color);\n",
              "    box-shadow: none;\n",
              "  }\n",
              "\n",
              "  .colab-df-spinner {\n",
              "    border: 2px solid var(--fill-color);\n",
              "    border-color: transparent;\n",
              "    border-bottom-color: var(--fill-color);\n",
              "    animation:\n",
              "      spin 1s steps(1) infinite;\n",
              "  }\n",
              "\n",
              "  @keyframes spin {\n",
              "    0% {\n",
              "      border-color: transparent;\n",
              "      border-bottom-color: var(--fill-color);\n",
              "      border-left-color: var(--fill-color);\n",
              "    }\n",
              "    20% {\n",
              "      border-color: transparent;\n",
              "      border-left-color: var(--fill-color);\n",
              "      border-top-color: var(--fill-color);\n",
              "    }\n",
              "    30% {\n",
              "      border-color: transparent;\n",
              "      border-left-color: var(--fill-color);\n",
              "      border-top-color: var(--fill-color);\n",
              "      border-right-color: var(--fill-color);\n",
              "    }\n",
              "    40% {\n",
              "      border-color: transparent;\n",
              "      border-right-color: var(--fill-color);\n",
              "      border-top-color: var(--fill-color);\n",
              "    }\n",
              "    60% {\n",
              "      border-color: transparent;\n",
              "      border-right-color: var(--fill-color);\n",
              "    }\n",
              "    80% {\n",
              "      border-color: transparent;\n",
              "      border-right-color: var(--fill-color);\n",
              "      border-bottom-color: var(--fill-color);\n",
              "    }\n",
              "    90% {\n",
              "      border-color: transparent;\n",
              "      border-bottom-color: var(--fill-color);\n",
              "    }\n",
              "  }\n",
              "</style>\n",
              "\n",
              "  <script>\n",
              "    async function quickchart(key) {\n",
              "      const quickchartButtonEl =\n",
              "        document.querySelector('#' + key + ' button');\n",
              "      quickchartButtonEl.disabled = true;  // To prevent multiple clicks.\n",
              "      quickchartButtonEl.classList.add('colab-df-spinner');\n",
              "      try {\n",
              "        const charts = await google.colab.kernel.invokeFunction(\n",
              "            'suggestCharts', [key], {});\n",
              "      } catch (error) {\n",
              "        console.error('Error during call to suggestCharts:', error);\n",
              "      }\n",
              "      quickchartButtonEl.classList.remove('colab-df-spinner');\n",
              "      quickchartButtonEl.classList.add('colab-df-quickchart-complete');\n",
              "    }\n",
              "    (() => {\n",
              "      let quickchartButtonEl =\n",
              "        document.querySelector('#df-046e1c61-c4fe-4b94-9c6e-08818ea1b095 button');\n",
              "      quickchartButtonEl.style.display =\n",
              "        google.colab.kernel.accessAllowed ? 'block' : 'none';\n",
              "    })();\n",
              "  </script>\n",
              "</div>\n",
              "    </div>\n",
              "  </div>\n"
            ],
            "text/plain": [
              "               model  best_score  \\\n",
              "0      random_forest    0.833150   \n",
              "1                svm    0.252870   \n",
              "2  gradient_boosting    0.296560   \n",
              "3  linear_regression    0.254201   \n",
              "\n",
              "                                         best_params  \n",
              "0           {'n_estimators': 100, 'random_state': 0}  \n",
              "1                          {'C': 1, 'kernel': 'rbf'}  \n",
              "2        {'learning_rate': 0.1, 'n_estimators': 150}  \n",
              "3  {'copy_X': True, 'fit_intercept': True, 'posit...  "
            ]
          },
          "execution_count": 15,
          "metadata": {},
          "output_type": "execute_result"
        }
      ]
    },
    {
      "cell_type": "markdown",
      "source": [
        "# Neural Network"
      ],
      "metadata": {
        "id": "8bbyxoZXXltp"
      }
    },
    {
      "cell_type": "code",
      "source": [
        "import tensorflow as tf"
      ],
      "metadata": {
        "id": "cXstnbSFXk_U"
      },
      "execution_count": 16,
      "outputs": []
    },
    {
      "cell_type": "code",
      "source": [
        "nn_model = tf.keras.Sequential([\n",
        "    tf.keras.layers.Dense(32, activation='relu'),\n",
        "    tf.keras.layers.Dense(32, activation='relu'),\n",
        "    tf.keras.layers.Dense(1, activation='sigmoid')\n",
        "])\n",
        "\n",
        "nn_model.compile(optimizer=tf.keras.optimizers.Adam(0.001), loss='binary_crossentropy',\n",
        "                 metrics=['accuracy'], run_eagerly=True)"
      ],
      "metadata": {
        "id": "i5rDgByKZPWQ"
      },
      "execution_count": 18,
      "outputs": []
    },
    {
      "cell_type": "code",
      "source": [
        "history = nn_model.fit(\n",
        "    X_train, Y_train, epochs=30, validation_split=0.2\n",
        ")"
      ],
      "metadata": {
        "colab": {
          "base_uri": "https://localhost:8080/"
        },
        "id": "XzCb2ZY9at_H",
        "outputId": "2f5ec2ad-9ce2-4148-e3df-b6353b1a41e1"
      },
      "execution_count": 19,
      "outputs": [
        {
          "output_type": "stream",
          "name": "stdout",
          "text": [
            "Epoch 1/30\n",
            "364/364 [==============================] - 16s 43ms/step - loss: 0.4451 - accuracy: 0.7967 - val_loss: 0.3924 - val_accuracy: 0.8344\n",
            "Epoch 2/30\n",
            "364/364 [==============================] - 10s 28ms/step - loss: 0.4003 - accuracy: 0.8212 - val_loss: 0.3793 - val_accuracy: 0.8419\n",
            "Epoch 3/30\n",
            "364/364 [==============================] - 10s 28ms/step - loss: 0.3908 - accuracy: 0.8250 - val_loss: 0.3740 - val_accuracy: 0.8433\n",
            "Epoch 4/30\n",
            "364/364 [==============================] - 10s 28ms/step - loss: 0.3848 - accuracy: 0.8292 - val_loss: 0.3778 - val_accuracy: 0.8354\n",
            "Epoch 5/30\n",
            "364/364 [==============================] - 11s 29ms/step - loss: 0.3809 - accuracy: 0.8279 - val_loss: 0.3690 - val_accuracy: 0.8381\n",
            "Epoch 6/30\n",
            "364/364 [==============================] - 10s 28ms/step - loss: 0.3774 - accuracy: 0.8303 - val_loss: 0.3689 - val_accuracy: 0.8419\n",
            "Epoch 7/30\n",
            "364/364 [==============================] - 10s 28ms/step - loss: 0.3742 - accuracy: 0.8325 - val_loss: 0.3665 - val_accuracy: 0.8412\n",
            "Epoch 8/30\n",
            "364/364 [==============================] - 10s 28ms/step - loss: 0.3723 - accuracy: 0.8334 - val_loss: 0.3661 - val_accuracy: 0.8488\n",
            "Epoch 9/30\n",
            "364/364 [==============================] - 10s 28ms/step - loss: 0.3697 - accuracy: 0.8348 - val_loss: 0.3677 - val_accuracy: 0.8430\n",
            "Epoch 10/30\n",
            "364/364 [==============================] - 11s 30ms/step - loss: 0.3669 - accuracy: 0.8370 - val_loss: 0.3694 - val_accuracy: 0.8460\n",
            "Epoch 11/30\n",
            "364/364 [==============================] - 10s 26ms/step - loss: 0.3655 - accuracy: 0.8357 - val_loss: 0.3638 - val_accuracy: 0.8481\n",
            "Epoch 12/30\n",
            "364/364 [==============================] - 10s 29ms/step - loss: 0.3638 - accuracy: 0.8373 - val_loss: 0.3724 - val_accuracy: 0.8457\n",
            "Epoch 13/30\n",
            "364/364 [==============================] - 11s 30ms/step - loss: 0.3611 - accuracy: 0.8378 - val_loss: 0.3665 - val_accuracy: 0.8471\n",
            "Epoch 14/30\n",
            "364/364 [==============================] - 10s 28ms/step - loss: 0.3596 - accuracy: 0.8394 - val_loss: 0.3658 - val_accuracy: 0.8464\n",
            "Epoch 15/30\n",
            "364/364 [==============================] - 11s 30ms/step - loss: 0.3588 - accuracy: 0.8399 - val_loss: 0.3642 - val_accuracy: 0.8495\n",
            "Epoch 16/30\n",
            "364/364 [==============================] - 10s 29ms/step - loss: 0.3568 - accuracy: 0.8423 - val_loss: 0.3712 - val_accuracy: 0.8474\n",
            "Epoch 17/30\n",
            "364/364 [==============================] - 11s 29ms/step - loss: 0.3555 - accuracy: 0.8417 - val_loss: 0.3655 - val_accuracy: 0.8485\n",
            "Epoch 18/30\n",
            "364/364 [==============================] - 10s 26ms/step - loss: 0.3535 - accuracy: 0.8413 - val_loss: 0.3663 - val_accuracy: 0.8488\n",
            "Epoch 19/30\n",
            "364/364 [==============================] - 11s 30ms/step - loss: 0.3520 - accuracy: 0.8438 - val_loss: 0.3707 - val_accuracy: 0.8474\n",
            "Epoch 20/30\n",
            "364/364 [==============================] - 11s 30ms/step - loss: 0.3508 - accuracy: 0.8455 - val_loss: 0.3683 - val_accuracy: 0.8447\n",
            "Epoch 21/30\n",
            "364/364 [==============================] - 11s 30ms/step - loss: 0.3491 - accuracy: 0.8449 - val_loss: 0.3681 - val_accuracy: 0.8402\n",
            "Epoch 22/30\n",
            "364/364 [==============================] - 10s 29ms/step - loss: 0.3475 - accuracy: 0.8464 - val_loss: 0.3683 - val_accuracy: 0.8471\n",
            "Epoch 23/30\n",
            "364/364 [==============================] - 10s 28ms/step - loss: 0.3471 - accuracy: 0.8461 - val_loss: 0.3726 - val_accuracy: 0.8443\n",
            "Epoch 24/30\n",
            "364/364 [==============================] - 10s 29ms/step - loss: 0.3452 - accuracy: 0.8469 - val_loss: 0.3682 - val_accuracy: 0.8505\n",
            "Epoch 25/30\n",
            "364/364 [==============================] - 10s 28ms/step - loss: 0.3444 - accuracy: 0.8462 - val_loss: 0.3800 - val_accuracy: 0.8381\n",
            "Epoch 26/30\n",
            "364/364 [==============================] - 11s 29ms/step - loss: 0.3433 - accuracy: 0.8487 - val_loss: 0.3670 - val_accuracy: 0.8471\n",
            "Epoch 27/30\n",
            "364/364 [==============================] - 10s 28ms/step - loss: 0.3428 - accuracy: 0.8484 - val_loss: 0.3716 - val_accuracy: 0.8454\n",
            "Epoch 28/30\n",
            "364/364 [==============================] - 10s 29ms/step - loss: 0.3414 - accuracy: 0.8482 - val_loss: 0.3743 - val_accuracy: 0.8433\n",
            "Epoch 29/30\n",
            "364/364 [==============================] - 10s 29ms/step - loss: 0.3401 - accuracy: 0.8505 - val_loss: 0.3744 - val_accuracy: 0.8412\n",
            "Epoch 30/30\n",
            "364/364 [==============================] - 10s 28ms/step - loss: 0.3392 - accuracy: 0.8520 - val_loss: 0.3733 - val_accuracy: 0.8436\n"
          ]
        }
      ]
    },
    {
      "cell_type": "markdown",
      "source": [
        "This is for Checking the data that we given is Good or Bad"
      ],
      "metadata": {
        "id": "7FCobhu8IxdM"
      }
    },
    {
      "cell_type": "code",
      "source": [],
      "metadata": {
        "id": "xHZT3LQtatpQ"
      },
      "execution_count": null,
      "outputs": []
    },
    {
      "cell_type": "code",
      "source": [
        "# this is how much the tree was perfomed\n",
        "classifier.score(X_train, Y_train)"
      ],
      "metadata": {
        "colab": {
          "base_uri": "https://localhost:8080/"
        },
        "id": "BB38Icu8Ix47",
        "outputId": "4322d8b0-0219-4628-a342-e33e1ebef48f"
      },
      "execution_count": 20,
      "outputs": [
        {
          "output_type": "execute_result",
          "data": {
            "text/plain": [
              "1.0"
            ]
          },
          "metadata": {},
          "execution_count": 20
        }
      ]
    },
    {
      "cell_type": "code",
      "source": [
        "Y_predict = classifier.predict(X_test)"
      ],
      "metadata": {
        "id": "YCHl5vC_LT4L"
      },
      "execution_count": 21,
      "outputs": []
    },
    {
      "cell_type": "code",
      "source": [
        "print(Y_predict)\n",
        "print(Y_test)"
      ],
      "metadata": {
        "colab": {
          "base_uri": "https://localhost:8080/"
        },
        "id": "z_-3VulWLsrf",
        "outputId": "1bc8ef9e-d0d9-4cb7-fc82-e96f77115fee"
      },
      "execution_count": 22,
      "outputs": [
        {
          "output_type": "stream",
          "name": "stdout",
          "text": [
            "[0 0 0 ... 0 0 0]\n",
            "[1 1 0 ... 1 0 0]\n"
          ]
        }
      ]
    },
    {
      "cell_type": "code",
      "source": [
        "Y_predict = fit_y.inverse_transform(Y_predict)\n",
        "Y_test = fit_y.inverse_transform(Y_test)\n",
        "# Y_predict = Y_predict.reshape(-1, 1)\n"
      ],
      "metadata": {
        "id": "3no3BTBFL1t8"
      },
      "execution_count": 23,
      "outputs": []
    },
    {
      "cell_type": "code",
      "source": [
        "Y_predict = Y_predict.reshape(-1,1)\n",
        "Y_test = Y_test.reshape(-1,1)"
      ],
      "metadata": {
        "id": "JP_pYYn8NEy-"
      },
      "execution_count": 24,
      "outputs": []
    },
    {
      "cell_type": "code",
      "source": [
        "# this is for displaying the result\n",
        "func = np.concatenate((Y_test, Y_predict), axis=1)"
      ],
      "metadata": {
        "id": "wbJjflmoNTnU"
      },
      "execution_count": 25,
      "outputs": []
    },
    {
      "cell_type": "code",
      "source": [
        "df = pd.DataFrame(data=func, columns=[\"Tommorow Raining\", \"Prediction of Raining\"])\n",
        "print(df)"
      ],
      "metadata": {
        "colab": {
          "base_uri": "https://localhost:8080/"
        },
        "id": "kcHO-L07Si0G",
        "outputId": "ddb1405c-9e6c-4738-ad98-5af555656326"
      },
      "execution_count": 26,
      "outputs": [
        {
          "output_type": "stream",
          "name": "stdout",
          "text": [
            "       Tommorow Raining Prediction of Raining\n",
            "0                   Yes                    No\n",
            "1                   Yes                    No\n",
            "2                    No                    No\n",
            "3                    No                    No\n",
            "4                    No                    No\n",
            "...                 ...                   ...\n",
            "130909               No                    No\n",
            "130910              Yes                    No\n",
            "130911              Yes                    No\n",
            "130912               No                    No\n",
            "130913               No                    No\n",
            "\n",
            "[130914 rows x 2 columns]\n"
          ]
        }
      ]
    },
    {
      "cell_type": "markdown",
      "source": [
        "This For calculate how much Accureate our Model To predicting the Given Value"
      ],
      "metadata": {
        "id": "9H6MGREWWUkj"
      }
    },
    {
      "cell_type": "code",
      "source": [
        "from sklearn.metrics import accuracy_score\n",
        "accuracy_score(Y_test, Y_predict)"
      ],
      "metadata": {
        "id": "FzoBW9sLWUDV",
        "outputId": "531ed606-827f-4efb-e939-fd1ccacc0e48",
        "colab": {
          "base_uri": "https://localhost:8080/"
        }
      },
      "execution_count": 27,
      "outputs": [
        {
          "output_type": "execute_result",
          "data": {
            "text/plain": [
              "0.8318743602670455"
            ]
          },
          "metadata": {},
          "execution_count": 27
        }
      ]
    }
  ]
}